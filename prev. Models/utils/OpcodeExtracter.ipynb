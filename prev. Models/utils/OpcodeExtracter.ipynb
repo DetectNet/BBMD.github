{
 "cells": [
  {
   "cell_type": "markdown",
   "metadata": {
    "id": "vDBAPFgd3Ov2"
   },
   "source": [
    "# How to extract Benign(pefile) opcode\n",
    "- Dataset Link: https://github.com/iosifache/DikeDataset\n",
    "- 해당 파일은 양성코드 파일들에서 opcode를 추출하여 딕셔너리 형태의 피클 파일로 저장하는 방법을 보여줍니다.\n",
    "- 해당 방식을 통해 opcode를 추출하여 각 기존 기법 머신러닝 모델에 Input으로 넣는 것을 추천드립니다."
   ]
  },
  {
   "cell_type": "markdown",
   "metadata": {
    "id": "UsXmvgR53p2g"
   },
   "source": [
    "# Python Package load"
   ]
  },
  {
   "cell_type": "code",
   "execution_count": 1,
   "metadata": {
    "executionInfo": {
     "elapsed": 492,
     "status": "ok",
     "timestamp": 1650269824818,
     "user": {
      "displayName": "장재석",
      "userId": "17434884161071384713"
     },
     "user_tz": -540
    },
    "id": "99sYnO0L3FnN"
   },
   "outputs": [],
   "source": [
    "from capstone import *\n",
    "from capstone.x86 import *\n",
    "import pefile\n",
    "import time\n",
    "import os\n",
    "import pickle\n",
    "import datetime\n",
    "import numpy as np\n",
    "import pandas as pd\n",
    "from tqdm import tqdm_notebook"
   ]
  },
  {
   "cell_type": "markdown",
   "metadata": {
    "id": "rFRAEkEE7tEQ"
   },
   "source": [
    "# BenginFile directory 내 파일명 리스트 생성"
   ]
  },
  {
   "cell_type": "code",
   "execution_count": 2,
   "metadata": {
    "colab": {
     "base_uri": "https://localhost:8080/"
    },
    "executionInfo": {
     "elapsed": 314,
     "status": "ok",
     "timestamp": 1650245900205,
     "user": {
      "displayName": "장재석",
      "userId": "17434884161071384713"
     },
     "user_tz": -540
    },
    "id": "g1b07XNG7sxC",
    "outputId": "808a0bf3-02ce-4bef-b0dc-811fee04767b"
   },
   "outputs": [
    {
     "data": {
      "text/plain": [
       "['002ce0d28ec990aadbbc89df457189de37d8adaadc9c084b78eb7be9a9820c81.exe',\n",
       " '003851675800dc05cdac1baa84cab8f68534b244906d97ced0c40f50da27df0a.exe',\n",
       " '00eea85752664955047caad7d6280bc7bf1ab91c61eb9a2542c26b747a12e963.exe',\n",
       " '0111bddac92a792c7b2ee3ab77642c33df0e01afe737b0d1fa0cbbf331d9572c.exe',\n",
       " '016584e586de67b725ac1e3974fcca320bf81c8c489ebb17d9909735d517e7ae.exe',\n",
       " '01a38ae91ae28ca9dcc89790292ad106a3f5bf8c16318b7ac9c1e7ab4ca628d4.exe',\n",
       " '0222aaf048e5bc28f88d03862f133bc444d358f06201e00dcc93422c81e5bcca.exe',\n",
       " '02253301617f5201605443ec0c4ab9e3bf8667caa3ea57a0be4d0641e2394ef6.exe',\n",
       " '02431aa60089b968bc59acc69796ed9418546894752d0c9766fbe3aae0a85031.exe',\n",
       " '03aed529543ac4ce2d9bb6b325f59686a06f1e9df112cf719a8e5222fffda801.exe']"
      ]
     },
     "execution_count": 2,
     "metadata": {},
     "output_type": "execute_result"
    }
   ],
   "source": [
    "path_dir = 'D:/Consistency Training for Malware Static detection/data2/benign'\n",
    "file_list = os.listdir(path_dir)\n",
    "file_list[:10]"
   ]
  },
  {
   "cell_type": "markdown",
   "metadata": {
    "id": "h36_SQHK-q8G"
   },
   "source": [
    "# opcode 리스트 로드\n",
    "- file 폴더에 있는 opcodesList.txt의 파일 경로로 변경해주시면 됩니다."
   ]
  },
  {
   "cell_type": "code",
   "execution_count": 3,
   "metadata": {
    "colab": {
     "base_uri": "https://localhost:8080/"
    },
    "executionInfo": {
     "elapsed": 6,
     "status": "ok",
     "timestamp": 1650245557321,
     "user": {
      "displayName": "장재석",
      "userId": "17434884161071384713"
     },
     "user_tz": -540
    },
    "id": "3EJNRqcT-zzR",
    "outputId": "42b1c4fd-9dd1-467d-9018-950d7bebb3f7"
   },
   "outputs": [
    {
     "name": "stdout",
     "output_type": "stream",
     "text": [
      "['aaa', 'aad', 'aam', 'aas', 'adc', 'add', 'and', 'call', 'cbw', 'clc', 'cld', 'cli', 'cmc', 'cmp', 'cmpsb', 'cmpsw', 'cwd', 'daa', 'das', 'dec', 'div', 'esc', 'hlt', 'idiv', 'imul', 'in', 'inc', 'int', 'into', 'iret', 'jcc', 'ja', 'jae', 'jb', 'jbe', 'jc', 'je', 'jg', 'jge', 'jl', 'jle', 'jnle', 'jno', 'jnp', 'jns', 'jnz', 'jo', 'jp', 'jpe', 'jpo', 'js', 'jz', 'jcxz', 'jmp', 'lahf', 'lds', 'lea', 'les', 'lock', 'lodsb', 'lodsw', 'loop', 'loope', 'loopne', 'loopnz', 'loopz', 'loopx', 'mov', 'movsb', 'movsw', 'mul', 'neg', 'nop', 'not', 'or', 'out', 'pop', 'popf', 'push', 'pushf', 'rcl', 'rcr', 'repxx', 'rep', 'repe', 'repne', 'repnz', 'repz', 'ret', 'retn', 'retf', 'rol', 'ror', 'sahf', 'sal', 'sar', 'sbb', 'scasb', 'scasw', 'shl', 'shr', 'stc', 'std', 'sti', 'stosb', 'stosw', 'sub', 'test', 'wait', 'xchg', 'xlat', 'xor']\n"
     ]
    }
   ],
   "source": [
    "filePath = 'opcodesList.txt'\n",
    "with open(filePath, 'rb') as lf:\n",
    "    opcodes = pickle.load(lf)\n",
    "    print(opcodes)"
   ]
  },
  {
   "cell_type": "markdown",
   "metadata": {},
   "source": [
    "# Vocab Load"
   ]
  },
  {
   "cell_type": "code",
   "execution_count": 18,
   "metadata": {},
   "outputs": [
    {
     "name": "stdout",
     "output_type": "stream",
     "text": [
      "{'aaa': 0, 'aad': 1, 'aam': 2, 'aas': 3, 'adc': 4, 'add': 5, 'and': 6, 'call': 7, 'cbw': 8, 'clc': 9, 'cld': 10, 'cli': 11, 'cmc': 12, 'cmp': 13, 'cmpsb': 14, 'cmpsw': 15, 'cwd': 16, 'daa': 17, 'das': 18, 'dec': 19, 'div': 20, 'esc': 21, 'hlt': 22, 'idiv': 23, 'imul': 24, 'in': 25, 'inc': 26, 'int': 27, 'into': 28, 'iret': 29, 'jcc': 30, 'ja': 31, 'jae': 32, 'jb': 33, 'jbe': 34, 'jc': 35, 'je': 36, 'jg': 37, 'jge': 38, 'jl': 39, 'jle': 40, 'jnle': 41, 'jno': 42, 'jnp': 43, 'jns': 44, 'jnz': 45, 'jo': 46, 'jp': 47, 'jpe': 48, 'jpo': 49, 'js': 50, 'jz': 51, 'jcxz': 52, 'jmp': 53, 'lahf': 54, 'lds': 55, 'lea': 56, 'les': 57, 'lock': 58, 'lodsb': 59, 'lodsw': 60, 'loop': 61, 'loope': 62, 'loopne': 63, 'loopnz': 64, 'loopz': 65, 'loopx': 66, 'mov': 67, 'movsb': 68, 'movsw': 69, 'mul': 70, 'neg': 71, 'nop': 72, 'not': 73, 'or': 74, 'out': 75, 'pop': 76, 'popf': 77, 'push': 78, 'pushf': 79, 'rcl': 80, 'rcr': 81, 'repxx': 82, 'rep': 83, 'repe': 84, 'repne': 85, 'repnz': 86, 'repz': 87, 'ret': 88, 'retn': 89, 'retf': 90, 'rol': 91, 'ror': 92, 'sahf': 93, 'sal': 94, 'sar': 95, 'sbb': 96, 'scasb': 97, 'scasw': 98, 'shl': 99, 'shr': 100, 'stc': 101, 'std': 102, 'sti': 103, 'stosb': 104, 'stosw': 105, 'sub': 106, 'test': 107, 'wait': 108, 'xchg': 109, 'xlat': 110, 'xor': 111}\n"
     ]
    }
   ],
   "source": [
    "opcodeDict = {}\n",
    "for i in range(len(opcodes)):\n",
    "    opcodeDict.setdefault(opcodes[i], i)\n",
    "\n",
    "print(opcodeDict)"
   ]
  },
  {
   "cell_type": "markdown",
   "metadata": {
    "id": "RJFM-s7OF7ej"
   },
   "source": [
    "# 필요 함수"
   ]
  },
  {
   "cell_type": "markdown",
   "metadata": {
    "id": "Ql4a1KEyEUIo"
   },
   "source": [
    "## Disassembling 함수"
   ]
  },
  {
   "cell_type": "code",
   "execution_count": 4,
   "metadata": {
    "id": "ixbeVtgqFjj7"
   },
   "outputs": [],
   "source": [
    "#the function takes two arguments, both are fetched from the exe file using\n",
    "#pefile. the first one is the list of all sections. The second one is the\n",
    "#address of the first instruction in the program\n",
    "def get_main_code_section(sections, base_of_code):\n",
    "    addresses = []\n",
    "    #get addresses of all sections\n",
    "    for section in sections: \n",
    "        addresses.append(section.VirtualAddress)\n",
    "        \n",
    "    #if the address of section corresponds to the first instruction then\n",
    "    #this section should be the main code section\n",
    "    if base_of_code in addresses:    \n",
    "        return sections[addresses.index(base_of_code)]\n",
    "    #otherwise, sort addresses and look for the interval to which the base of code\n",
    "    #belongs\n",
    "    else:\n",
    "        addresses.append(base_of_code)\n",
    "        addresses.sort()\n",
    "        if addresses.index(base_of_code)!= 0:\n",
    "            return sections[addresses.index(base_of_code)-1]\n",
    "        else:\n",
    "            #this means we failed to locate it\n",
    "            return None"
   ]
  },
  {
   "cell_type": "code",
   "execution_count": 5,
   "metadata": {
    "id": "KUDwW0aCFvby"
   },
   "outputs": [],
   "source": [
    "def fine_disassemble(exe):\n",
    "    #get main code section\n",
    "    main_code = get_main_code_section(exe.sections, exe.OPTIONAL_HEADER.BaseOfCode)\n",
    "    #define architecutre of the machine \n",
    "    md = Cs(CS_ARCH_X86, CS_MODE_32)\n",
    "    md.detail = True\n",
    "    last_address = 0\n",
    "    last_size = 0\n",
    "    #Beginning of code section\n",
    "    begin = main_code.PointerToRawData\n",
    "    #the end of the first continuous bloc of code\n",
    "    end = begin+main_code.SizeOfRawData\n",
    "    while True:\n",
    "        #parse code section and disassemble it\n",
    "        data = exe.get_memory_mapped_image()[begin:end]\n",
    "        for i in md.disasm(data, begin):\n",
    "            print(i)\n",
    "            last_address = int(i.address)\n",
    "            last_size = i.size\n",
    "        #sometimes you need to skip some bytes\n",
    "        begin = max(int(last_address),begin)+last_size+1\n",
    "        if begin >= end:\n",
    "            print(\"out\")\n",
    "            break"
   ]
  },
  {
   "cell_type": "markdown",
   "metadata": {
    "id": "DmJpiJ5oF3iN"
   },
   "source": [
    "## Opcode 추출 함수"
   ]
  },
  {
   "cell_type": "code",
   "execution_count": 6,
   "metadata": {
    "id": "f7MNHXAOF6vh"
   },
   "outputs": [],
   "source": [
    "def ExtractPefileOpcodes(exe):\n",
    "    #Opcode LIst\n",
    "    opcodeList = []\n",
    "    #get main code section\n",
    "    main_code = get_main_code_section(exe.sections, exe.OPTIONAL_HEADER.BaseOfCode)\n",
    "    #define architecutre of the machine \n",
    "    md = Cs(CS_ARCH_X86, CS_MODE_32)\n",
    "    md.detail = True\n",
    "    last_address = 0\n",
    "    last_size = 0\n",
    "    #Beginning of code section\n",
    "    begin = main_code.PointerToRawData\n",
    "    #the end of the first continuous bloc of code\n",
    "    end = begin+main_code.SizeOfRawData\n",
    "    while True:\n",
    "        #parse code section and disassemble it\n",
    "        data = exe.get_memory_mapped_image()[begin:end]\n",
    "        for i in md.disasm(data, begin):\n",
    "            # print(i)\n",
    "            line = str(i).rstrip().split()\n",
    "\n",
    "            for opcode in opcodes:\n",
    "                if opcode in line:\n",
    "                    opcodeList.append(opcode)\n",
    "                    break\n",
    "\n",
    "            last_address = int(i.address)\n",
    "            last_size = i.size\n",
    "        #sometimes you need to skip some bytes\n",
    "        begin = max(int(last_address),begin)+last_size+1\n",
    "        if begin >= end:\n",
    "            break\n",
    "    \n",
    "    return opcodeList"
   ]
  },
  {
   "cell_type": "markdown",
   "metadata": {
    "id": "blWA2yIyHGEi"
   },
   "source": [
    "# benignFIle sample opcode 추출"
   ]
  },
  {
   "cell_type": "code",
   "execution_count": 12,
   "metadata": {
    "id": "_wM0TkoxHJxX"
   },
   "outputs": [
    {
     "name": "stdout",
     "output_type": "stream",
     "text": [
      "sample: D:/Consistency Training for Malware Static detection/data2/benign/002ce0d28ec990aadbbc89df457189de37d8adaadc9c084b78eb7be9a9820c81.exe\n",
      "sample opcode 개수: 99752\n",
      "['ret', 'dec', 'mov', 'xor', 'dec', 'lea', 'inc', 'mov', 'dec', 'cmp', 'inc', 'mov', 'inc', 'mov', 'inc', 'inc', 'test', 'js', 'inc', 'mov']\n"
     ]
    }
   ],
   "source": [
    "sample = path_dir + '/' + file_list[0]\n",
    "print(f'sample: {sample}')\n",
    "\n",
    "exe = pefile.PE(sample)\n",
    "\n",
    "sampleOpcodeList = ExtractPefileOpcodes(exe)\n",
    "\n",
    "print(f'sample opcode 개수: {len(sampleOpcodeList)}')\n",
    "print(sampleOpcodeList[:20])"
   ]
  },
  {
   "cell_type": "code",
   "execution_count": 48,
   "metadata": {},
   "outputs": [
    {
     "name": "stdout",
     "output_type": "stream",
     "text": [
      "sample: D:/Consistency Training for Malware Static detection/data2/benign/fffadeda975e01bb25fddcc63670cb1b73082db4addc58e782f0b4aa2af976e4.exe\n",
      "sample opcode 개수: 0\n",
      "[]\n"
     ]
    }
   ],
   "source": [
    "sample = path_dir + '/' + BenignDf['Name'][961]\n",
    "print(f'sample: {sample}')\n",
    "\n",
    "exe = pefile.PE(sample)\n",
    "\n",
    "sampleOpcodeList = ExtractPefileOpcodes(exe)\n",
    "\n",
    "print(f'sample opcode 개수: {len(sampleOpcodeList)}')\n",
    "print(sampleOpcodeList[:20])"
   ]
  },
  {
   "cell_type": "markdown",
   "metadata": {
    "id": "zcahiqEgMB_c"
   },
   "source": [
    "# benignFIle Directory 내 파일 opcode 추출"
   ]
  },
  {
   "cell_type": "code",
   "execution_count": 40,
   "metadata": {
    "colab": {
     "base_uri": "https://localhost:8080/",
     "height": 245
    },
    "executionInfo": {
     "elapsed": 402,
     "status": "error",
     "timestamp": 1650246203500,
     "user": {
      "displayName": "장재석",
      "userId": "17434884161071384713"
     },
     "user_tz": -540
    },
    "id": "WGkvxHvgML6A",
    "outputId": "90eeb25d-860a-4f94-c2aa-cff622ffa8c1"
   },
   "outputs": [
    {
     "name": "stderr",
     "output_type": "stream",
     "text": [
      "<ipython-input-40-17dfb7925794>:2: TqdmDeprecationWarning: This function will be removed in tqdm==5.0.0\n",
      "Please use `tqdm.notebook.tqdm` instead of `tqdm.tqdm_notebook`\n",
      "  for fileName in tqdm_notebook(file_list):\n"
     ]
    },
    {
     "data": {
      "application/vnd.jupyter.widget-view+json": {
       "model_id": "d1baa8e268ca4ff58a612f2494daa55f",
       "version_major": 2,
       "version_minor": 0
      },
      "text/plain": [
       "  0%|          | 0/1082 [00:00<?, ?it/s]"
      ]
     },
     "metadata": {},
     "output_type": "display_data"
    }
   ],
   "source": [
    "outputDict = {}\n",
    "for fileName in tqdm_notebook(file_list):\n",
    "    filePath = path_dir + '/' + fileName\n",
    "    try:\n",
    "        #parse exe file\n",
    "        exe = pefile.PE(filePath)\n",
    "        try:\n",
    "            #call the function we created earlier\n",
    "            sampleOpcodeList = ExtractPefileOpcodes(exe)\n",
    "        except:\n",
    "            continue\n",
    "    except:\n",
    "        continue\n",
    "        \n",
    "    outputDict.setdefault(fileName, sampleOpcodeList)"
   ]
  },
  {
   "cell_type": "code",
   "execution_count": 41,
   "metadata": {
    "id": "U3j0_zlmOTKi"
   },
   "outputs": [],
   "source": [
    "with open('D:/Consistency Training for Malware Static detection/data2/BenignOpcodes.p', 'wb') as file:\n",
    "    pickle.dump(outputDict, file)"
   ]
  },
  {
   "cell_type": "code",
   "execution_count": 42,
   "metadata": {
    "id": "q00FNp3DPxY9"
   },
   "outputs": [],
   "source": [
    "with open('D:/Consistency Training for Malware Static detection/data2/BenignOpcodes.p', 'rb') as file:\n",
    "    outputDict2 = pickle.load(file)"
   ]
  },
  {
   "cell_type": "code",
   "execution_count": 43,
   "metadata": {
    "colab": {
     "background_save": true,
     "output_embedded_package_id": "1vXPshtpcQKzFzTmUQHwzSlxaNggd5D16"
    },
    "id": "GJWX22SMP3ar",
    "outputId": "8993fdfb-102e-4956-a6b8-9c731f465419"
   },
   "outputs": [
    {
     "data": {
      "text/plain": [
       "962"
      ]
     },
     "execution_count": 43,
     "metadata": {},
     "output_type": "execute_result"
    }
   ],
   "source": [
    "len(outputDict2)"
   ]
  },
  {
   "cell_type": "code",
   "execution_count": 49,
   "metadata": {},
   "outputs": [],
   "source": [
    "nameList = list(outputDict2.keys())\n",
    "opcodeList = list(outputDict2.values())\n",
    "opcodeFrequencyList = []\n",
    "LenList = []\n",
    "\n",
    "for opList in opcodeList:\n",
    "    tempList = [0 for i in range(len(opcodes))]\n",
    "    tempLen = 0\n",
    "    for op in opList:\n",
    "        tempList[opcodeDict[op]] += 1\n",
    "        tempLen += 1\n",
    "    \n",
    "    opcodeFrequencyList.append(tempList)\n",
    "    LenList.append(tempLen)\n",
    "\n",
    "BenignDict = {'Name' : nameList,\n",
    "              'opocodes' : opcodeList,# opcodeFrequencyList,\n",
    "              'Len' : LenList,\n",
    "              'class' : [0 for i in range(len(opcodeList))]}\n",
    "\n",
    "BenignDf = pd.DataFrame.from_dict(BenignDict)"
   ]
  },
  {
   "cell_type": "code",
   "execution_count": 50,
   "metadata": {},
   "outputs": [
    {
     "data": {
      "text/html": [
       "<div>\n",
       "<style scoped>\n",
       "    .dataframe tbody tr th:only-of-type {\n",
       "        vertical-align: middle;\n",
       "    }\n",
       "\n",
       "    .dataframe tbody tr th {\n",
       "        vertical-align: top;\n",
       "    }\n",
       "\n",
       "    .dataframe thead th {\n",
       "        text-align: right;\n",
       "    }\n",
       "</style>\n",
       "<table border=\"1\" class=\"dataframe\">\n",
       "  <thead>\n",
       "    <tr style=\"text-align: right;\">\n",
       "      <th></th>\n",
       "      <th>Name</th>\n",
       "      <th>opocodes</th>\n",
       "      <th>Len</th>\n",
       "      <th>class</th>\n",
       "    </tr>\n",
       "  </thead>\n",
       "  <tbody>\n",
       "    <tr>\n",
       "      <th>0</th>\n",
       "      <td>002ce0d28ec990aadbbc89df457189de37d8adaadc9c08...</td>\n",
       "      <td>[ret, dec, mov, xor, dec, lea, inc, mov, dec, ...</td>\n",
       "      <td>99752</td>\n",
       "      <td>0</td>\n",
       "    </tr>\n",
       "    <tr>\n",
       "      <th>1</th>\n",
       "      <td>003851675800dc05cdac1baa84cab8f68534b244906d97...</td>\n",
       "      <td>[ret, nop, nop, dec, sub, dec, mov, xor, mov, ...</td>\n",
       "      <td>4074</td>\n",
       "      <td>0</td>\n",
       "    </tr>\n",
       "    <tr>\n",
       "      <th>2</th>\n",
       "      <td>00eea85752664955047caad7d6280bc7bf1ab91c61eb9a...</td>\n",
       "      <td>[ret, nop, nop, dec, sub, dec, mov, xor, mov, ...</td>\n",
       "      <td>7549</td>\n",
       "      <td>0</td>\n",
       "    </tr>\n",
       "    <tr>\n",
       "      <th>3</th>\n",
       "      <td>0111bddac92a792c7b2ee3ab77642c33df0e01afe737b0...</td>\n",
       "      <td>[push, mov, sub, mov, test, je, and, mov, or, ...</td>\n",
       "      <td>11917</td>\n",
       "      <td>0</td>\n",
       "    </tr>\n",
       "    <tr>\n",
       "      <th>4</th>\n",
       "      <td>016584e586de67b725ac1e3974fcca320bf81c8c489ebb...</td>\n",
       "      <td>[mov, shl, mov, push, push, xor, mov, mov, cmp...</td>\n",
       "      <td>15636</td>\n",
       "      <td>0</td>\n",
       "    </tr>\n",
       "    <tr>\n",
       "      <th>...</th>\n",
       "      <td>...</td>\n",
       "      <td>...</td>\n",
       "      <td>...</td>\n",
       "      <td>...</td>\n",
       "    </tr>\n",
       "    <tr>\n",
       "      <th>957</th>\n",
       "      <td>ff3a27c79a9938205bb158f87c020fa24a42612c8b6b0c...</td>\n",
       "      <td>[push, mov, push, push, mov, xor, push, test, ...</td>\n",
       "      <td>7564</td>\n",
       "      <td>0</td>\n",
       "    </tr>\n",
       "    <tr>\n",
       "      <th>958</th>\n",
       "      <td>ff6d6d846bb0ef538a95836a52e6187c855cbf93e2fce3...</td>\n",
       "      <td>[ret, nop, nop, dec, sub, dec, mov, xor, mov, ...</td>\n",
       "      <td>10381</td>\n",
       "      <td>0</td>\n",
       "    </tr>\n",
       "    <tr>\n",
       "      <th>959</th>\n",
       "      <td>ff9ef3f71807789ab7387c00020b61f7c7ffdcbd7f55d5...</td>\n",
       "      <td>[add, add, add, add, push, add, add, add, add,...</td>\n",
       "      <td>15521</td>\n",
       "      <td>0</td>\n",
       "    </tr>\n",
       "    <tr>\n",
       "      <th>960</th>\n",
       "      <td>ffb860e143e71b639ce6e78afc0a4e120714fcffbbc811...</td>\n",
       "      <td>[push, push, mov, push, push, mov, xor, push, ...</td>\n",
       "      <td>382920</td>\n",
       "      <td>0</td>\n",
       "    </tr>\n",
       "    <tr>\n",
       "      <th>961</th>\n",
       "      <td>fffadeda975e01bb25fddcc63670cb1b73082db4addc58...</td>\n",
       "      <td>[]</td>\n",
       "      <td>0</td>\n",
       "      <td>0</td>\n",
       "    </tr>\n",
       "  </tbody>\n",
       "</table>\n",
       "<p>962 rows × 4 columns</p>\n",
       "</div>"
      ],
      "text/plain": [
       "                                                  Name  \\\n",
       "0    002ce0d28ec990aadbbc89df457189de37d8adaadc9c08...   \n",
       "1    003851675800dc05cdac1baa84cab8f68534b244906d97...   \n",
       "2    00eea85752664955047caad7d6280bc7bf1ab91c61eb9a...   \n",
       "3    0111bddac92a792c7b2ee3ab77642c33df0e01afe737b0...   \n",
       "4    016584e586de67b725ac1e3974fcca320bf81c8c489ebb...   \n",
       "..                                                 ...   \n",
       "957  ff3a27c79a9938205bb158f87c020fa24a42612c8b6b0c...   \n",
       "958  ff6d6d846bb0ef538a95836a52e6187c855cbf93e2fce3...   \n",
       "959  ff9ef3f71807789ab7387c00020b61f7c7ffdcbd7f55d5...   \n",
       "960  ffb860e143e71b639ce6e78afc0a4e120714fcffbbc811...   \n",
       "961  fffadeda975e01bb25fddcc63670cb1b73082db4addc58...   \n",
       "\n",
       "                                              opocodes     Len  class  \n",
       "0    [ret, dec, mov, xor, dec, lea, inc, mov, dec, ...   99752      0  \n",
       "1    [ret, nop, nop, dec, sub, dec, mov, xor, mov, ...    4074      0  \n",
       "2    [ret, nop, nop, dec, sub, dec, mov, xor, mov, ...    7549      0  \n",
       "3    [push, mov, sub, mov, test, je, and, mov, or, ...   11917      0  \n",
       "4    [mov, shl, mov, push, push, xor, mov, mov, cmp...   15636      0  \n",
       "..                                                 ...     ...    ...  \n",
       "957  [push, mov, push, push, mov, xor, push, test, ...    7564      0  \n",
       "958  [ret, nop, nop, dec, sub, dec, mov, xor, mov, ...   10381      0  \n",
       "959  [add, add, add, add, push, add, add, add, add,...   15521      0  \n",
       "960  [push, push, mov, push, push, mov, xor, push, ...  382920      0  \n",
       "961                                                 []       0      0  \n",
       "\n",
       "[962 rows x 4 columns]"
      ]
     },
     "execution_count": 50,
     "metadata": {},
     "output_type": "execute_result"
    }
   ],
   "source": [
    "BenignDf"
   ]
  },
  {
   "cell_type": "code",
   "execution_count": 54,
   "metadata": {},
   "outputs": [
    {
     "data": {
      "text/html": [
       "<div>\n",
       "<style scoped>\n",
       "    .dataframe tbody tr th:only-of-type {\n",
       "        vertical-align: middle;\n",
       "    }\n",
       "\n",
       "    .dataframe tbody tr th {\n",
       "        vertical-align: top;\n",
       "    }\n",
       "\n",
       "    .dataframe thead th {\n",
       "        text-align: right;\n",
       "    }\n",
       "</style>\n",
       "<table border=\"1\" class=\"dataframe\">\n",
       "  <thead>\n",
       "    <tr style=\"text-align: right;\">\n",
       "      <th></th>\n",
       "      <th>Name</th>\n",
       "      <th>opocodes</th>\n",
       "      <th>Len</th>\n",
       "      <th>class</th>\n",
       "    </tr>\n",
       "  </thead>\n",
       "  <tbody>\n",
       "    <tr>\n",
       "      <th>961</th>\n",
       "      <td>fffadeda975e01bb25fddcc63670cb1b73082db4addc58...</td>\n",
       "      <td>[]</td>\n",
       "      <td>0</td>\n",
       "      <td>0</td>\n",
       "    </tr>\n",
       "  </tbody>\n",
       "</table>\n",
       "</div>"
      ],
      "text/plain": [
       "                                                  Name opocodes  Len  class\n",
       "961  fffadeda975e01bb25fddcc63670cb1b73082db4addc58...       []    0      0"
      ]
     },
     "execution_count": 54,
     "metadata": {},
     "output_type": "execute_result"
    }
   ],
   "source": [
    "BenignDf[BenignDf['Len'] == 0]"
   ]
  },
  {
   "cell_type": "code",
   "execution_count": null,
   "metadata": {},
   "outputs": [],
   "source": []
  }
 ],
 "metadata": {
  "colab": {
   "authorship_tag": "ABX9TyNXLusVRUPlVb0dd4ZY3vf7",
   "collapsed_sections": [
    "83vo8tKs3uAI"
   ],
   "machine_shape": "hm",
   "mount_file_id": "1qiqvAfo7ev-WoGzG07YZNYFgcXx0VSht",
   "name": "MalwareFileOpcodeExtraction.ipynb",
   "provenance": []
  },
  "kernelspec": {
   "display_name": "Python 3",
   "language": "python",
   "name": "python3"
  },
  "language_info": {
   "codemirror_mode": {
    "name": "ipython",
    "version": 3
   },
   "file_extension": ".py",
   "mimetype": "text/x-python",
   "name": "python",
   "nbconvert_exporter": "python",
   "pygments_lexer": "ipython3",
   "version": "3.8.8"
  }
 },
 "nbformat": 4,
 "nbformat_minor": 1
}
